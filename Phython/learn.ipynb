{
 "cells": [
  {
   "cell_type": "code",
   "execution_count": 39,
   "metadata": {},
   "outputs": [
    {
     "name": "stdout",
     "output_type": "stream",
     "text": [
      "Hello Github\n",
      "My name is Ben, and I am practicing Python coding\n",
      "Let's go!!\n"
     ]
    }
   ],
   "source": [
    "print(\"Hello Github\")\n",
    "print(\"My name is Ben, and I am practicing Python coding\")\n",
    "print(\"Let's go!!\")"
   ]
  },
  {
   "cell_type": "code",
   "execution_count": 41,
   "metadata": {},
   "outputs": [
    {
     "name": "stdout",
     "output_type": "stream",
     "text": [
      "<class 'list'>\n",
      "Hello!\n",
      "h\n",
      "e\n",
      "l\n",
      "l\n",
      "o\n",
      "he\n",
      "l\n",
      "e\n",
      "methods\n",
      "[21, 32, 7, 5, 'Forty two', 'Twenty nine', 50, 0.5, [10, 29]]\n",
      "[21, 32, 7, 5, 'Forty two', 'Twenty nine', 50, 0.5, [10, 29], 10, 29]\n",
      "[30, 21, 32, 7, 5, 'Forty two', 'Twenty nine', 50, 0.5, [10, 29], 10, 29]\n",
      "[1, 20, 'bye', 0.5]\n",
      "[1, 20, 0.5]\n",
      "[]\n",
      "[1, 20, 0.5, 10]\n",
      "[0.5, 1, 10, 20]\n",
      "1\n",
      "2\n",
      "[2, 3]\n",
      "[1, 2, 3]\n"
     ]
    }
   ],
   "source": [
    "#Creating Lists and formatting lists\n",
    "Age = [21,32,7,5,'Forty two','Twenty nine',50,0.5]\n",
    "print(type(Age))\n",
    "print('Hello!')\n",
    "\n",
    "#Accessing elements within the list\n",
    "print('hello'[0])\n",
    "print('hello'[1])\n",
    "print('hello'[2])\n",
    "print('hello'[3])\n",
    "print('hello'[4])\n",
    "#print('hello'[5]) #Index Error since there isn't no index 5\n",
    "print('hello'[:2])\n",
    "#Slicing: Doesn't work with the index, It starts from 1\n",
    "print('hello'[-2])\n",
    "print('hello'[-4])\n",
    "\n",
    "#Method Under List\n",
    "methods = ['adding elements (append, insert, extend)',\"Deleting elements(remove, pop, clear)\", \"Other functions (index, count, sort)\" ]\n",
    "print(\"methods\")\n",
    "\n",
    "#Adding Elements\n",
    "Age.append([10,29]) #takes everything as one variable and adds it to the list\n",
    "print(Age)\n",
    "Age.extend([10,29]) #takes everthing as seperate variables and adds it to the list\n",
    "print(Age)\n",
    "Age.insert(0,30) #(0=index, 30=new list number to be inserted)\n",
    "print(Age)\n",
    "\n",
    "#Deleting Elements\n",
    "red = [1, 20, 'bye', 0.5, 10]\n",
    "red.pop() #takes out the last element of the list\n",
    "print(red)\n",
    "\n",
    "red.remove('bye')#remove \"bye from the list\"\n",
    "print(red)\n",
    "\n",
    "red.clear() #clears the list\n",
    "print(red)\n",
    "\n",
    "#Sort function\n",
    "green = [1, 20,0.5,10]\n",
    "print(green)\n",
    "green.sort() #arranges the list in ascending order\n",
    "print(green) \n",
    "#green.sort(reversed) #arranges the list in ascending order\n",
    "#print(green)\n",
    "\n",
    "#count functiom\n",
    "print(green.count(10))#used to count the frequency of an element in a list\n",
    "\n",
    "#Index Function\n",
    "print(green.index(10)) #Shows the position of an element in a list\n",
    "\n",
    "\n",
    "#Classwork\n",
    "Ben = [1,2,3,4,5,6]\n",
    "print(Ben[1:3])\n",
    "print(Ben[:3])\n",
    "\n"
   ]
  },
  {
   "cell_type": "code",
   "execution_count": 47,
   "metadata": {},
   "outputs": [
    {
     "name": "stdout",
     "output_type": "stream",
     "text": [
      "Five is greater than two!\n",
      "Five is greater than two!\n",
      "Python is Awesome\n",
      "Python is Beautiful\n"
     ]
    }
   ],
   "source": [
    "if 5 > 2:\n",
    " print(\"Five is greater than two!\") \n",
    "if 5 > 2:\n",
    "        print(\"Five is greater than two!\") \n",
    "\n",
    "x = \"Beautiful\"\n",
    "def myfunc():\n",
    "     # global x {Creating global variable inside a defined function}\n",
    "     x = \"Awesome\"\n",
    "     print(\"Python is \" + x)\n",
    "myfunc()\n",
    "print(\"Python is \" + x)"
   ]
  },
  {
   "cell_type": "code",
   "execution_count": 48,
   "metadata": {},
   "outputs": [
    {
     "name": "stdout",
     "output_type": "stream",
     "text": [
      "<class 'str'> <class 'int'> <class 'float'> <class 'complex'> <class 'list'> <class 'tuple'> <class 'range'> <class 'dict'> <class 'set'> <class 'frozenset'> <class 'bool'> <class 'bytes'> <class 'bytearray'> <class 'memoryview'> <class 'NoneType'>\n"
     ]
    }
   ],
   "source": [
    "a = \"Hello World\"\t#str\t\n",
    "b = 20\t#int\t\n",
    "c = 20.5\t#float\t\n",
    "d = 1j\t#complex\t\n",
    "e = [\"apple\", \"banana\", \"cherry\"]\t#list\t\n",
    "f = (\"apple\", \"banana\", \"cherry\")\t#tuple\t\n",
    "g = range(6)\t#range\t\n",
    "h = {\"name\" : \"John\", \"age\" : 36}\t#dict\t\n",
    "i = {\"apple\", \"banana\", \"cherry\"}\t#set\t\n",
    "j = frozenset({\"apple\", \"banana\", \"cherry\"})\t#frozenset\t\n",
    "k = True\t#bool\t\n",
    "l = b\"Hello\"\t#bytes\t\n",
    "m = bytearray(5)\t#bytearray\t\n",
    "n = memoryview(bytes(5))\t#memoryview\t\n",
    "o = None\t#NoneType\n",
    "\n",
    "print (type(a),type(b),type(c),type(d),\n",
    "       type(e),type(f),type(g),type(h),\n",
    "       type(i),type(j),type(k),type(l),\n",
    "       type(m),type(n),type(o))"
   ]
  },
  {
   "cell_type": "code",
   "execution_count": 49,
   "metadata": {},
   "outputs": [
    {
     "name": "stdout",
     "output_type": "stream",
     "text": [
      "<class 'float'>\n",
      "<class 'float'>\n",
      "<class 'float'>\n"
     ]
    }
   ],
   "source": [
    "x = 35e3\n",
    "y = 12E4\n",
    "z = -87.7e100\n",
    "\n",
    "print(type(x))\n",
    "print(type(y))\n",
    "print(type(z))"
   ]
  },
  {
   "cell_type": "code",
   "execution_count": null,
   "metadata": {},
   "outputs": [],
   "source": []
  }
 ],
 "metadata": {
  "kernelspec": {
   "display_name": "Python 3 (ipykernel)",
   "language": "python",
   "name": "python3"
  },
  "language_info": {
   "codemirror_mode": {
    "name": "ipython",
    "version": 3
   },
   "file_extension": ".py",
   "mimetype": "text/x-python",
   "name": "python",
   "nbconvert_exporter": "python",
   "pygments_lexer": "ipython3",
   "version": "3.12.2"
  }
 },
 "nbformat": 4,
 "nbformat_minor": 2
}
