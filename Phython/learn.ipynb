{
 "cells": [
  {
   "cell_type": "code",
   "execution_count": 39,
   "metadata": {},
   "outputs": [
    {
     "name": "stdout",
     "output_type": "stream",
     "text": [
      "Hello Github\n",
      "My name is Ben, and I am practicing Python coding\n",
      "Let's go!!\n"
     ]
    }
   ],
   "source": [
    "print(\"Hello Github\")\n",
    "print(\"My name is Ben, and I am practicing Python coding\")\n",
    "print(\"Let's go!!\")"
   ]
  },
  {
   "cell_type": "code",
   "execution_count": 41,
   "metadata": {},
   "outputs": [
    {
     "name": "stdout",
     "output_type": "stream",
     "text": [
      "<class 'list'>\n",
      "Hello!\n",
      "h\n",
      "e\n",
      "l\n",
      "l\n",
      "o\n",
      "he\n",
      "l\n",
      "e\n",
      "methods\n",
      "[21, 32, 7, 5, 'Forty two', 'Twenty nine', 50, 0.5, [10, 29]]\n",
      "[21, 32, 7, 5, 'Forty two', 'Twenty nine', 50, 0.5, [10, 29], 10, 29]\n",
      "[30, 21, 32, 7, 5, 'Forty two', 'Twenty nine', 50, 0.5, [10, 29], 10, 29]\n",
      "[1, 20, 'bye', 0.5]\n",
      "[1, 20, 0.5]\n",
      "[]\n",
      "[1, 20, 0.5, 10]\n",
      "[0.5, 1, 10, 20]\n",
      "1\n",
      "2\n",
      "[2, 3]\n",
      "[1, 2, 3]\n"
     ]
    }
   ],
   "source": [
    "#Creating Lists and formatting lists\n",
    "Age = [21,32,7,5,'Forty two','Twenty nine',50,0.5]\n",
    "print(type(Age))\n",
    "print('Hello!')\n",
    "\n",
    "#Accessing elements within the list\n",
    "print('hello'[0])\n",
    "print('hello'[1])\n",
    "print('hello'[2])\n",
    "print('hello'[3])\n",
    "print('hello'[4])\n",
    "#print('hello'[5]) #Index Error since there isn't no index 5\n",
    "print('hello'[:2])\n",
    "#Slicing: Doesn't work with the index, It starts from 1\n",
    "print('hello'[-2])\n",
    "print('hello'[-4])\n",
    "\n",
    "#Method Under List\n",
    "methods = ['adding elements (append, insert, extend)',\"Deleting elements(remove, pop, clear)\", \"Other functions (index, count, sort)\" ]\n",
    "print(\"methods\")\n",
    "\n",
    "#Adding Elements\n",
    "Age.append([10,29]) #takes everything as one variable and adds it to the list\n",
    "print(Age)\n",
    "Age.extend([10,29]) #takes everthing as seperate variables and adds it to the list\n",
    "print(Age)\n",
    "Age.insert(0,30) #(0=index, 30=new list number to be inserted)\n",
    "print(Age)\n",
    "\n",
    "#Deleting Elements\n",
    "red = [1, 20, 'bye', 0.5, 10]\n",
    "red.pop() #takes out the last element of the list\n",
    "print(red)\n",
    "\n",
    "red.remove('bye')#remove \"bye from the list\"\n",
    "print(red)\n",
    "\n",
    "red.clear() #clears the list\n",
    "print(red)\n",
    "\n",
    "#Sort function\n",
    "green = [1, 20,0.5,10]\n",
    "print(green)\n",
    "green.sort() #arranges the list in ascending order\n",
    "print(green) \n",
    "#green.sort(reversed) #arranges the list in ascending order\n",
    "#print(green)\n",
    "\n",
    "#count functiom\n",
    "print(green.count(10))#used to count the frequency of an element in a list\n",
    "\n",
    "#Index Function\n",
    "print(green.index(10)) #Shows the position of an element in a list\n",
    "\n",
    "\n",
    "#Classwork\n",
    "Ben = [1,2,3,4,5,6]\n",
    "print(Ben[1:3])\n",
    "print(Ben[:3])\n",
    "\n"
   ]
  },
  {
   "cell_type": "code",
   "execution_count": null,
   "metadata": {},
   "outputs": [],
   "source": []
  }
 ],
 "metadata": {
  "kernelspec": {
   "display_name": "Python 3 (ipykernel)",
   "language": "python",
   "name": "python3"
  },
  "language_info": {
   "codemirror_mode": {
    "name": "ipython",
    "version": 3
   },
   "file_extension": ".py",
   "mimetype": "text/x-python",
   "name": "python",
   "nbconvert_exporter": "python",
   "pygments_lexer": "ipython3",
   "version": "3.12.2"
  }
 },
 "nbformat": 4,
 "nbformat_minor": 2
}
